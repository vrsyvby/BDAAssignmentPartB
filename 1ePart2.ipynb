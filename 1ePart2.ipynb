{
 "cells": [
  {
   "cell_type": "code",
   "execution_count": 3,
   "id": "488fdbf9-9679-4d7c-b5bd-4d1b6d2af641",
   "metadata": {},
   "outputs": [],
   "source": [
    "import numpy as np"
   ]
  },
  {
   "cell_type": "code",
   "execution_count": 5,
   "id": "03f93178-6661-4341-bd72-92e7e5fe90d8",
   "metadata": {},
   "outputs": [],
   "source": [
    "A = np.array([\n",
    "    [0,0,1,0,1,0,0,0,1,0],  # 0\n",
    "    [0,0,0,0,1,1,0,1,0,0],  # 1\n",
    "    [0,0,0,0,0,1,0,0,0,0],  # 2\n",
    "    [0,0,0,0,0,0,0,1,1,1],  # 3\n",
    "    [0,0,0,0,0,0,0,0,1,0],  # 4\n",
    "    [0,0,0,0,0,0,0,0,0,0],  # 5\n",
    "    [0,0,0,0,0,0,0,0,1,0],  # 6\n",
    "    [0,0,0,0,0,0,0,0,1,0],  # 7\n",
    "    [0,0,0,0,0,0,0,0,0,0],  # 8\n",
    "    [0,0,0,0,0,0,0,0,0,0],  # 9\n",
    "])"
   ]
  },
  {
   "cell_type": "code",
   "execution_count": 7,
   "id": "3b6320e6-3da9-477b-b788-1ccd868376c4",
   "metadata": {},
   "outputs": [],
   "source": [
    "# A^2 = 2-hop paths\n",
    "A2 = np.linalg.matrix_power(A, 2)"
   ]
  },
  {
   "cell_type": "code",
   "execution_count": 9,
   "id": "d7639841-c3ae-4861-8c99-cf396ef1050c",
   "metadata": {},
   "outputs": [
    {
     "name": "stdout",
     "output_type": "stream",
     "text": [
      "A^2 (2-hop paths):\n",
      "[[0 0 0 0 0 1 0 0 1 0]\n",
      " [0 0 0 0 0 0 0 0 2 0]\n",
      " [0 0 0 0 0 0 0 0 0 0]\n",
      " [0 0 0 0 0 0 0 0 1 0]\n",
      " [0 0 0 0 0 0 0 0 0 0]\n",
      " [0 0 0 0 0 0 0 0 0 0]\n",
      " [0 0 0 0 0 0 0 0 0 0]\n",
      " [0 0 0 0 0 0 0 0 0 0]\n",
      " [0 0 0 0 0 0 0 0 0 0]\n",
      " [0 0 0 0 0 0 0 0 0 0]]\n"
     ]
    }
   ],
   "source": [
    "# Print some examples\n",
    "print(\"A^2 (2-hop paths):\")\n",
    "print(A2)"
   ]
  },
  {
   "cell_type": "code",
   "execution_count": 11,
   "id": "87ba06fa-cf72-439d-bcfa-accd9acb39f9",
   "metadata": {},
   "outputs": [],
   "source": [
    "# A^3 = 3-hop paths\n",
    "A3 = np.linalg.matrix_power(A, 3)"
   ]
  },
  {
   "cell_type": "code",
   "execution_count": 13,
   "id": "617a3c26-f5c5-4fc7-9947-f80147cb0aa2",
   "metadata": {},
   "outputs": [
    {
     "name": "stdout",
     "output_type": "stream",
     "text": [
      "\n",
      "A^3 (3-hop paths):\n",
      "[[0 0 0 0 0 0 0 0 0 0]\n",
      " [0 0 0 0 0 0 0 0 0 0]\n",
      " [0 0 0 0 0 0 0 0 0 0]\n",
      " [0 0 0 0 0 0 0 0 0 0]\n",
      " [0 0 0 0 0 0 0 0 0 0]\n",
      " [0 0 0 0 0 0 0 0 0 0]\n",
      " [0 0 0 0 0 0 0 0 0 0]\n",
      " [0 0 0 0 0 0 0 0 0 0]\n",
      " [0 0 0 0 0 0 0 0 0 0]\n",
      " [0 0 0 0 0 0 0 0 0 0]]\n"
     ]
    }
   ],
   "source": [
    "print(\"\\nA^3 (3-hop paths):\")\n",
    "print(A3)"
   ]
  },
  {
   "cell_type": "code",
   "execution_count": null,
   "id": "10bf81ad-3555-4293-aefa-8b9b6e562132",
   "metadata": {},
   "outputs": [],
   "source": []
  }
 ],
 "metadata": {
  "kernelspec": {
   "display_name": "Python [conda env:base] *",
   "language": "python",
   "name": "conda-base-py"
  },
  "language_info": {
   "codemirror_mode": {
    "name": "ipython",
    "version": 3
   },
   "file_extension": ".py",
   "mimetype": "text/x-python",
   "name": "python",
   "nbconvert_exporter": "python",
   "pygments_lexer": "ipython3",
   "version": "3.12.7"
  }
 },
 "nbformat": 4,
 "nbformat_minor": 5
}
