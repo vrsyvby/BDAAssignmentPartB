{
 "cells": [
  {
   "cell_type": "code",
   "execution_count": 21,
   "id": "488fdbf9-9679-4d7c-b5bd-4d1b6d2af641",
   "metadata": {},
   "outputs": [],
   "source": [
    "import numpy as np"
   ]
  },
  {
   "cell_type": "code",
   "execution_count": 23,
   "id": "03f93178-6661-4341-bd72-92e7e5fe90d8",
   "metadata": {},
   "outputs": [],
   "source": [
    "A = np.array([\n",
    "    [0,0,0,0,0,0,0,0,0,0],\n",
    "    [0,0,0,0,0,0,0,0,0,0],\n",
    "    [1,0,0,0,0,0,0,0,0,0],\n",
    "    [0,0,0,0,0,0,0,0,0,0],\n",
    "    [1,1,0,0,0,0,0,0,0,0],\n",
    "    [0,1,1,0,0,0,0,0,0,0],\n",
    "    [0,0,0,0,0,0,0,0,0,0],\n",
    "    [0,1,0,1,0,0,0,0,0,0],\n",
    "    [1,0,0,1,1,0,1,1,0,0],\n",
    "    [0,0,0,1,0,0,0,0,0,0]# 9\n",
    "])"
   ]
  },
  {
   "cell_type": "code",
   "execution_count": 25,
   "id": "57eaa44e-6b1e-4658-9c0d-ffe5cbe27eb6",
   "metadata": {},
   "outputs": [],
   "source": [
    "# linalg in numpy is for doing linear algebra"
   ]
  },
  {
   "cell_type": "code",
   "execution_count": 27,
   "id": "3b6320e6-3da9-477b-b788-1ccd868376c4",
   "metadata": {},
   "outputs": [],
   "source": [
    "# A^2 = 2-hop paths\n",
    "A2 = np.linalg.matrix_power(A, 2)"
   ]
  },
  {
   "cell_type": "code",
   "execution_count": 29,
   "id": "d7639841-c3ae-4861-8c99-cf396ef1050c",
   "metadata": {},
   "outputs": [
    {
     "name": "stdout",
     "output_type": "stream",
     "text": [
      "A^2 (2-hop paths):\n",
      "[[0 0 0 0 0 0 0 0 0 0]\n",
      " [0 0 0 0 0 0 0 0 0 0]\n",
      " [0 0 0 0 0 0 0 0 0 0]\n",
      " [0 0 0 0 0 0 0 0 0 0]\n",
      " [0 0 0 0 0 0 0 0 0 0]\n",
      " [1 0 0 0 0 0 0 0 0 0]\n",
      " [0 0 0 0 0 0 0 0 0 0]\n",
      " [0 0 0 0 0 0 0 0 0 0]\n",
      " [1 2 0 1 0 0 0 0 0 0]\n",
      " [0 0 0 0 0 0 0 0 0 0]]\n"
     ]
    }
   ],
   "source": [
    "# Print some examples\n",
    "print(\"A^2 (2-hop paths):\")\n",
    "print(A2)"
   ]
  },
  {
   "cell_type": "code",
   "execution_count": 31,
   "id": "87ba06fa-cf72-439d-bcfa-accd9acb39f9",
   "metadata": {},
   "outputs": [],
   "source": [
    "# A^3 = 3-hop paths\n",
    "A3 = np.linalg.matrix_power(A, 3)"
   ]
  },
  {
   "cell_type": "code",
   "execution_count": 33,
   "id": "617a3c26-f5c5-4fc7-9947-f80147cb0aa2",
   "metadata": {},
   "outputs": [
    {
     "name": "stdout",
     "output_type": "stream",
     "text": [
      "\n",
      "A^3 (3-hop paths):\n",
      "[[0 0 0 0 0 0 0 0 0 0]\n",
      " [0 0 0 0 0 0 0 0 0 0]\n",
      " [0 0 0 0 0 0 0 0 0 0]\n",
      " [0 0 0 0 0 0 0 0 0 0]\n",
      " [0 0 0 0 0 0 0 0 0 0]\n",
      " [0 0 0 0 0 0 0 0 0 0]\n",
      " [0 0 0 0 0 0 0 0 0 0]\n",
      " [0 0 0 0 0 0 0 0 0 0]\n",
      " [0 0 0 0 0 0 0 0 0 0]\n",
      " [0 0 0 0 0 0 0 0 0 0]]\n"
     ]
    }
   ],
   "source": [
    "print(\"\\nA^3 (3-hop paths):\")\n",
    "print(A3)"
   ]
  },
  {
   "cell_type": "code",
   "execution_count": 35,
   "id": "10bf81ad-3555-4293-aefa-8b9b6e562132",
   "metadata": {},
   "outputs": [],
   "source": [
    "A_undirected = A + A.T\n",
    "A_undirected[A_undirected > 0] = 1 "
   ]
  },
  {
   "cell_type": "code",
   "execution_count": 37,
   "id": "fa350559-928b-4f58-b1bc-cc2cf7a02b53",
   "metadata": {},
   "outputs": [
    {
     "data": {
      "text/plain": [
       "array([[0, 0, 1, 0, 1, 0, 0, 0, 1, 0],\n",
       "       [0, 0, 0, 0, 1, 1, 0, 1, 0, 0],\n",
       "       [1, 0, 0, 0, 0, 1, 0, 0, 0, 0],\n",
       "       [0, 0, 0, 0, 0, 0, 0, 1, 1, 1],\n",
       "       [1, 1, 0, 0, 0, 0, 0, 0, 1, 0],\n",
       "       [0, 1, 1, 0, 0, 0, 0, 0, 0, 0],\n",
       "       [0, 0, 0, 0, 0, 0, 0, 0, 1, 0],\n",
       "       [0, 1, 0, 1, 0, 0, 0, 0, 1, 0],\n",
       "       [1, 0, 0, 1, 1, 0, 1, 1, 0, 0],\n",
       "       [0, 0, 0, 1, 0, 0, 0, 0, 0, 0]])"
      ]
     },
     "execution_count": 37,
     "metadata": {},
     "output_type": "execute_result"
    }
   ],
   "source": [
    "A_undirected"
   ]
  },
  {
   "cell_type": "code",
   "execution_count": null,
   "id": "c1ec1a29-7b99-43c0-a8ab-cf052b2a7add",
   "metadata": {},
   "outputs": [],
   "source": []
  }
 ],
 "metadata": {
  "kernelspec": {
   "display_name": "Python [conda env:base] *",
   "language": "python",
   "name": "conda-base-py"
  },
  "language_info": {
   "codemirror_mode": {
    "name": "ipython",
    "version": 3
   },
   "file_extension": ".py",
   "mimetype": "text/x-python",
   "name": "python",
   "nbconvert_exporter": "python",
   "pygments_lexer": "ipython3",
   "version": "3.12.7"
  }
 },
 "nbformat": 4,
 "nbformat_minor": 5
}
